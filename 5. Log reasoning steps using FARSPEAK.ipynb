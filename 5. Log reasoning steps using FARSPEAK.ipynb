{
  "cells": [
    {
      "cell_type": "code",
      "source": [
        "import requests\n",
        "import json"
      ],
      "metadata": {
        "id": "FyCZ16AeVVc5"
      },
      "execution_count": null,
      "outputs": []
    },
    {
      "cell_type": "code",
      "source": [
        "### Your FARSPEAK app - log in on FARSPEAK.AI and create an app first\n",
        "FARSPEAK_AppName = \"\"\n",
        "FARSPEAK_Env = \"\"\n",
        "FARSPEAK_token = \"\""
      ],
      "metadata": {
        "id": "IEaD88iAB47o"
      },
      "execution_count": null,
      "outputs": []
    },
    {
      "cell_type": "code",
      "source": [
        "explainable = [\n",
        "   {\n",
        "  \"answer\": \"Yes, gravity does work.\",\n",
        "  \"explanation\": {\n",
        "    \"context\": \"Gravity is a fundamental force in the universe that attracts objects with mass towards each other. It is described by Isaac Newton's law of universal gravitation and Albert Einstein's general theory of relativity.\",\n",
        "    \"evidence\": [\n",
        "      \"Observations of planetary motion around stars\",\n",
        "      \"Experiments demonstrating gravitational attraction between objects\"\n",
        "    ],\n",
        "    \"logic\": \"Gravity has been consistently observed and predicted in various scientific experiments and observations, providing strong evidence for its existence and function.\",\n",
        "    \"confidence\": 0.9,\n",
        "    \"parameters\": {\n",
        "      \"observations\": \"Planetary motion, gravitational attraction experiments\",\n",
        "      \"scientific_models\": \"Newton's law of universal gravitation, Einstein's general relativity\",\n",
        "      \"consistency\": \"Consistent observations and predictions\",\n",
        "      \"expert_opinions\": \"Support from leading physicists and researchers in the field\",\n",
        "      \"peer_review\": \"Published research and peer-reviewed studies\"\n",
        "    }\n",
        "  }\n",
        "},\n",
        "   {\n",
        "  \"answer\": \"4\",\n",
        "  \"explanation\": {\n",
        "    \"nodes_visited\": [\n",
        "      \"root\",\n",
        "      \"addition_node\",\n",
        "      \"two_node\",\n",
        "      \"two_node\"\n",
        "    ],\n",
        "    \"node_context\": {\n",
        "      \"root\": {\n",
        "        \"value\": \"Start of calculation\"\n",
        "      },\n",
        "      \"addition_node\": {\n",
        "        \"value\": \"Addition operation\"\n",
        "      },\n",
        "      \"two_node\": {\n",
        "        \"value\": \"Number 2\"\n",
        "      }\n",
        "    },\n",
        "    \"confidence_level\": 1,\n",
        "    \"inference_rules\": [\n",
        "      \"Addition of two numbers\"\n",
        "    ],\n",
        "    \"mathematical_rules\": [\n",
        "      \"Basic arithmetic operation: Addition\"\n",
        "    ]\n",
        "  }\n",
        "},\n",
        "   {\n",
        "    \"answer\": \"Solving the Riemann Zeta Hypothesis is hard because it involves complex analytical number theory, relies heavily on abstract concepts from mathematics, and has eluded mathematicians for over a century.\",\n",
        "    \"explanation\": {\n",
        "        \"tree-based context\": \"1. Understand the basics of the Riemann Zeta function, which is a complex function that plays a crucial role in number theory and has connections to prime numbers. \\n2. Explore the history of the Riemann Hypothesis, proposed by Riemann in 1859, which states that all non-trivial zeros of the Riemann Zeta function have a real part of 1/2. \\n3. Investigate the significance of the Riemann Hypothesis in mathematics, particularly in the distribution of prime numbers and the behavior of the Zeta function. \\n4. Delve into the challenges and complexities involved in proving the Riemann Hypothesis, including the need for advanced mathematical techniques, rigorous proofs, and a deep understanding of complex analysis. \\n5. Consider the various attempted proofs and approaches that mathematicians have taken over the years, highlighting the difficulty in finding a general solution. \\n6. Reflect on the implications of proving or disproving the Riemann Hypothesis for the field of mathematics and its potential impact on our understanding of prime numbers and number theory.\",\n",
        "        \"confidence\": 0.95,\n",
        "        \"parameters\": {\n",
        "            \"complexity of the Riemann Zeta function\": \"high\",\n",
        "            \"level of abstraction in mathematics involved\": \"high\",\n",
        "            \"duration of the problem remaining unsolved\": \"over a century\",\n",
        "            \"dependence on advanced mathematical techniques\": \"critical\",\n",
        "            \"importance in number theory\": \"significant\",\n",
        "            \"connection to prime numbers\": \"strong\",\n",
        "            \"need for rigorous proofs\": \"essential\",\n",
        "            \"impact on mathematics if solved\": \"profound\",\n",
        "            \"historical context\": \"relevant\",\n",
        "            \"existing attempted proofs\": \"varied\",\n",
        "            \"implications of proving/disproving the hypothesis\": \"far-reaching\",\n",
        "            \"potential breakthroughs in related fields\": \"possible\",\n",
        "            \"collaborative efforts in solving the problem\": \"ongoing\",\n",
        "            \"challenges faced by mathematicians\": \"complex\",\n",
        "            \"interdisciplinary connections\": \"limited\",\n",
        "            \"contribution to the broader scientific community\": \"potentially significant\"\n",
        "        }\n",
        "    }\n",
        "},\n",
        "   {\n",
        "  \"question\": \"Why is the sky blue?\",\n",
        "  \"answer\": \"The sky appears blue because of Rayleigh scattering, which is the scattering of sunlight off the molecules in the Earth's atmosphere. Shorter (blue) wavelengths of light are scattered more easily than longer (red) wavelengths, causing the blue light to scatter in all directions and be visible to us as the dominant color of the sky.\",\n",
        "  \"explanation\": {\n",
        "    \"step_1\": {\n",
        "      \"statement\": \"The sky appears blue due to Rayleigh scattering.\",\n",
        "      \"reasoning\": \"Rayleigh scattering is the phenomenon that explains the scattering of light by particles that are much smaller than the wavelength of the light. In this case, sunlight is scattered off the molecules in the Earth's atmosphere, causing the blue color of the sky to be dominant.\",\n",
        "      \"sources\": [\"https://www.britannica.com/science/Rayleigh-scattering\"],\n",
        "      \"confidence\": 0.9\n",
        "    },\n",
        "    \"step_2\": {\n",
        "      \"statement\": \"Shorter wavelengths of light are scattered more easily than longer wavelengths.\",\n",
        "      \"reasoning\": \"According to Rayleigh scattering, shorter wavelengths of light (such as blue and violet) are scattered more easily than longer wavelengths (such as red and yellow) because they interact more with the molecules in the atmosphere.\",\n",
        "      \"sources\": [\"https://www.photonics.byu.edu/fwnomograph.php\"],\n",
        "      \"confidence\": 0.85\n",
        "    },\n",
        "    \"step_3\": {\n",
        "      \"statement\": \"Blue light scatters in all directions and is visible to us as the dominant color of the sky.\",\n",
        "      \"reasoning\": \"Since blue light is scattered more easily due to its shorter wavelength, it appears to be coming from all directions in the sky, giving the sky its blue color as the most prominent hue that we see.\",\n",
        "      \"confidence\": 0.8\n",
        "    }\n",
        "  },\n",
        "  \"parameters\": {\n",
        "    \"total_parameters\": 100,\n",
        "    \"relevant_parameters\": 95,\n",
        "    \"irrelevant_parameters\": 5,\n",
        "    \"scientific_journal_references\": 3,\n",
        "    \"educational_institution_validation\": 1,\n",
        "    \"expert_consultation\": 1,\n",
        "    \"comparison_with_similar_phenomena\": 1,\n",
        "    \"experimental_data_analysis\": 1,\n",
        "    \"historical_context_investigation\": 1,\n",
        "    \"statistical_modeling_used\": 0\n",
        "  }\n",
        "},\n",
        "   {\n",
        "  \"question\": \"Are you sure 0 divided by 0 is undefined?\",\n",
        "  \"answer\": \"Yes, 0 divided by 0 is undefined.\",\n",
        "  \"explanation\": {\n",
        "    \"tree-based\": {\n",
        "      \"denominator\": {\n",
        "        \"value\": 0,\n",
        "        \"explanation\": {\n",
        "          \"numerator\": {\n",
        "            \"value\": 0,\n",
        "            \"explanation\": \"Dividing any number by 0 is undefined as division by 0 is not defined in mathematics.\"\n",
        "          }\n",
        "        }\n",
        "      }\n",
        "    },\n",
        "    \"confidence\": 1\n",
        "  },\n",
        "  \"parameters\": {\n",
        "    \"mathematical_rules\": [\"division by zero is undefined\"],\n",
        "    \"numerical_values\": {\n",
        "      \"numerator\": 0,\n",
        "      \"denominator\": 0\n",
        "    },\n",
        "    \"mathematical_operations\": [\"division\"],\n",
        "    \"context\": \"Mathematics\",\n",
        "    \"additional_context\": {\n",
        "      \"number_system\": \"Real numbers\",\n",
        "      \"mathematical_concepts\": [\"undefined operations\"]\n",
        "    },\n",
        "    \"logic\": {\n",
        "      \"explanation_flow\": \"Dividing a number by 0 leads to undefined result\",\n",
        "      \"reasoning\": [\"Mathematical rule\"]\n",
        "    },\n",
        "    \"evidence\": {\n",
        "      \"mathematical_literature\": {\n",
        "        \"sources\": [\"Math books\", \"Mathematical proofs\"],\n",
        "        \"authoritative_references\": [\"Mathematical theorems\"]\n",
        "      }\n",
        "    },\n",
        "    \"analysis\": {\n",
        "      \"logical_reasoning\": {\n",
        "        \"mathematical_axioms\": [\"Division by zero is undefined\"],\n",
        "        \"deductive_reasoning\": [\"If denominator is 0, division is undefined\"]\n",
        "      },\n",
        "      \"comparative_analysis\": {\n",
        "        \"comparison_with_other_operations\": [\"Multiplication by 0 is always 0\"]\n",
        "      }\n",
        "    },\n",
        "    \"level_of_abstraction\": \"0 division by 0\",\n",
        "    \"related_concepts\": {\n",
        "      \"division\": {\n",
        "        \"defined_operations\": [\"Any number divided by itself is 1\"]\n",
        "      }\n",
        "    }\n",
        "  }\n",
        "}\n",
        "]\n",
        "\n"
      ],
      "metadata": {
        "id": "Lr-a_9r9UAup"
      },
      "execution_count": null,
      "outputs": []
    },
    {
      "cell_type": "code",
      "source": [
        "# Upload a file\n",
        "# Use POST {{url}}/docs/{{app}}/{{env}}\n",
        "\n",
        "url = f\"https://api.farspeak.ai/docs/{FARSPEAK_AppName}/{FARSPEAK_Env}/explain\"\n",
        "\n",
        "# Token for authentication (if needed)\n",
        "headers = {\n",
        "    'token': FARSPEAK_token\n",
        "}"
      ],
      "metadata": {
        "id": "UJxm9PmZ-pSc"
      },
      "execution_count": null,
      "outputs": []
    },
    {
      "cell_type": "code",
      "source": [
        "# Log the insights\n",
        "response = requests.post(f\"https://api.farspeak.ai/apps/{FARSPEAK_AppName}/{FARSPEAK_Env}/explain\", headers={'token': f'{FARSPEAK_token}'}, data=json.dumps(explainable))\n",
        "print(response.text)"
      ],
      "metadata": {
        "colab": {
          "base_uri": "https://localhost:8080/"
        },
        "id": "ZMliMimNndyV",
        "outputId": "daf1baf0-6c1e-415d-903e-0adf5d54fa5d"
      },
      "execution_count": null,
      "outputs": [
        {
          "output_type": "stream",
          "name": "stdout",
          "text": [
            "{\"ids\":[\"e0urlt4a\",\"9ppcgu30\",\"95wmq27t\",\"5vpdxfz7\",\"2xvdot65\"]}\n"
          ]
        }
      ]
    },
    {
      "cell_type": "code",
      "source": [
        "# Use your knowledge base\n",
        "\n",
        "response = requests.post(f\"https://api.farspeak.ai/knowledgebase/{FARSPEAK_AppName}/{FARSPEAK_Env}\",\n",
        "                         headers={'token': f'{FARSPEAK_token}'},\n",
        "                         json={'query' : 'Why is 0 divided by 0 undefined?'})\n",
        "print(response.text)"
      ],
      "metadata": {
        "colab": {
          "base_uri": "https://localhost:8080/"
        },
        "id": "v8R7ER7GixH1",
        "outputId": "6a83e675-533e-4201-9a14-6f4d361aa189"
      },
      "execution_count": null,
      "outputs": [
        {
          "output_type": "stream",
          "name": "stdout",
          "text": [
            "{\"answer\":\"0 divided by 0 is undefined because dividing any number by 0 is not mathematically defined. In mathematics, division by 0 is considered undefined because it violates the fundamental rule that division is the inverse operation of multiplication. When the denominator (the number being divided by) is 0, it leads to a situation where the result is indeterminate or undefined.\"}\n"
          ]
        }
      ]
    },
    {
      "cell_type": "markdown",
      "metadata": {
        "id": "iEUMlO8M2h4Y"
      },
      "source": [
        "---"
      ]
    }
  ],
  "metadata": {
    "colab": {
      "provenance": []
    },
    "kernelspec": {
      "display_name": "Python 3",
      "name": "python3"
    },
    "language_info": {
      "name": "python"
    }
  },
  "nbformat": 4,
  "nbformat_minor": 0
}