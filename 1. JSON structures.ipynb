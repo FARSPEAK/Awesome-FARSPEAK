{
  "cells": [
    {
      "cell_type": "code",
      "source": [
        "import requests\n",
        "import json"
      ],
      "metadata": {
        "id": "UoOLGYiVB22Q"
      },
      "execution_count": 13,
      "outputs": []
    },
    {
      "cell_type": "code",
      "source": [
        "### Your FARSPEAK app - log in on FARSPEAK.AI and create an app first\n",
        "FARSPEAK_appname = \"\"\n",
        "FARSPEAK_env = \"\"\n",
        "FARSPEAK_token = \"\""
      ],
      "metadata": {
        "id": "IEaD88iAB47o"
      },
      "execution_count": 14,
      "outputs": []
    },
    {
      "cell_type": "code",
      "source": [
        "# Helper function example: get a single object\n",
        "def getObject(id):\n",
        "  return requests.get(f\"https://api.farspeak.ai/apps/{FARSPEAK_appname}/{FARSPEAK_env}/objects/\" + id, headers={'token': f'{FARSPEAK_token}'}, data=json.dumps([]))"
      ],
      "metadata": {
        "id": "YtLZefcW-pRJ"
      },
      "execution_count": 15,
      "outputs": []
    },
    {
      "cell_type": "code",
      "source": [
        "# Retrieve all the objects\n",
        "objects = requests.get(f\"https://api.farspeak.ai/apps/{FARSPEAK_appname}/{FARSPEAK_env}/objects\", headers={'token': f'{FARSPEAK_token}'}, data=json.dumps([]))\n",
        "print(objects.text)"
      ],
      "metadata": {
        "colab": {
          "base_uri": "https://localhost:8080/"
        },
        "id": "f9fFnde4MD0x",
        "outputId": "83065029-ab4a-4b57-eb58-d3a3816e0701"
      },
      "execution_count": 16,
      "outputs": [
        {
          "output_type": "stream",
          "name": "stdout",
          "text": [
            "{\"objects\":[{\"id\":\"zrs32ebp\",\"alice\":\"bob\",\"__meta\":{\"self\":\"/mike8/dev/objects/zrs32ebp\"}}],\"__meta\":{\"totalCount\":1,\"items\":1,\"pages\":1,\"page\":1,\"current_page\":\"/mike8/dev/objects?__page=1&__per_page=10\"}}\n"
          ]
        }
      ]
    },
    {
      "cell_type": "code",
      "source": [
        "#Add an object (and get its ID)\n",
        "kvArray = [{\"alice\": \"bob\"}]\n",
        "response = requests.post(f\"https://api.farspeak.ai/apps/{FARSPEAK_appname}/{FARSPEAK_env}/objects\", headers={'token': f'{FARSPEAK_token}'}, data=json.dumps(kvArray))\n",
        "print(response.text)"
      ],
      "metadata": {
        "colab": {
          "base_uri": "https://localhost:8080/"
        },
        "id": "UJxm9PmZ-pSc",
        "outputId": "d1801a4f-86ae-4095-b392-eb94f31c9ae1"
      },
      "execution_count": 17,
      "outputs": [
        {
          "output_type": "stream",
          "name": "stdout",
          "text": [
            "{\"ids\":[\"fsu4xd8i\"]}\n"
          ]
        }
      ]
    },
    {
      "cell_type": "code",
      "source": [
        "# Display the object you added\n",
        "response = getObject(\"fsu4xd8i\")\n",
        "print(response.text)"
      ],
      "metadata": {
        "colab": {
          "base_uri": "https://localhost:8080/"
        },
        "id": "EOuSQpaZWtMa",
        "outputId": "7990ee4b-6b69-4798-ed18-763a3c465d96"
      },
      "execution_count": 23,
      "outputs": [
        {
          "output_type": "stream",
          "name": "stdout",
          "text": [
            "{\"id\":\"fsu4xd8i\",\"alice\":\"bob\",\"__meta\":{\"self\":\"/mike8/dev/objects/fsu4xd8i\",\"subtypes\":{}}}\n"
          ]
        }
      ]
    },
    {
      "cell_type": "code",
      "source": [
        "milestones_pegasus = [\n",
        "  {\n",
        "    \"title\": \"Milestone 1: Prototype Development\",\n",
        "    \"description\": \"Develop a basic prototype to test core functionalities\",\n",
        "    \"created_at\": \"2023-03-01\",\n",
        "    \"due_date\": \"2023-03-15\",\n",
        "    \"owner\": \"Alice Jones\",\n",
        "    \"status\": \"Completed\"\n",
        "  },\n",
        "  {\n",
        "    \"title\": \"Milestone 2: UI/UX Design\",\n",
        "    \"description\": \"Design the user interface and user experience\",\n",
        "    \"created_at\": \"2023-03-15\",\n",
        "    \"owner\": \"Bob Brown\"\n",
        "  },\n",
        "  {\n",
        "    \"title\": \"Milestone 3: Beta Testing\",\n",
        "    \"description\": \"Conduct beta testing with a limited group of users\",\n",
        "    \"created_at\": \"2023-04-01\",\n",
        "    \"owner\": \"Charlie Lee\"\n",
        "  },\n",
        "  {\n",
        "    \"title\": \"Milestone 4: App Launch\",\n",
        "    \"description\": \"Release the app to the public\",\n",
        "    \"due_date\": \"2023-05-01\",\n",
        "    \"owner\": \"Charlie Lee\"\n",
        "  }\n",
        "]\n",
        "\n",
        "milestones_phoenix = [\n",
        "  {\n",
        "    \"title\": \"Milestone 1: Design and Planning\",\n",
        "    \"description\": \"Define project requirements and create a development plan\",\n",
        "    \"created_at\": \"2023-01-01\",\n",
        "    \"due_date\": \"2023-01-31\",\n",
        "    \"owner\": \"John Doe\",\n",
        "    \"status\": \"Completed\"\n",
        "  },\n",
        "  {\n",
        "    \"title\": \"Milestone 2: Development\",\n",
        "    \"description\": \"Develop and implement core functionalities\",\n",
        "    \"created_at\": \"2023-02-01\",\n",
        "    \"due_date\": \"2023-02-28\",\n",
        "    \"owner\": \"Jane Doe\",\n",
        "    \"status\": \"In Progress\"\n",
        "  }\n",
        "]\n"
      ],
      "metadata": {
        "id": "Te7eXDxMbqc8"
      },
      "execution_count": 19,
      "outputs": []
    },
    {
      "cell_type": "code",
      "source": [
        "# Add the first dataset\n",
        "response = requests.post(f\"https://api.farspeak.ai/apps/{FARSPEAK_appname}/{FARSPEAK_env}/milestones\", headers={'token': f'{FARSPEAK_token}'}, data=json.dumps(milestones_pegasus))\n",
        "print(response.text)"
      ],
      "metadata": {
        "colab": {
          "base_uri": "https://localhost:8080/"
        },
        "id": "srWqKrp8cBK2",
        "outputId": "babc8ba0-6e5c-41f2-ba90-6f6807770643"
      },
      "execution_count": 20,
      "outputs": [
        {
          "output_type": "stream",
          "name": "stdout",
          "text": [
            "{\"ids\":[\"ll0rxpfy\",\"e88igtco\",\"tcn9sfxj\",\"mhatw9v5\"]}\n"
          ]
        }
      ]
    },
    {
      "cell_type": "code",
      "source": [
        "# Add the second dataset\n",
        "response = requests.post(f\"https://api.farspeak.ai/apps/{FARSPEAK_appname}/{FARSPEAK_env}/milestones\", headers={'token': f'{FARSPEAK_token}'}, data=json.dumps(milestones_phoenix))\n",
        "print(response.text)"
      ],
      "metadata": {
        "colab": {
          "base_uri": "https://localhost:8080/"
        },
        "id": "LbsMk6giipzm",
        "outputId": "ed5a8bad-7f69-4a77-f61a-351bbec21c03"
      },
      "execution_count": 21,
      "outputs": [
        {
          "output_type": "stream",
          "name": "stdout",
          "text": [
            "{\"ids\":[\"g1jjpuyh\",\"pmc995jt\"]}\n"
          ]
        }
      ]
    },
    {
      "cell_type": "code",
      "source": [
        "# Use your knowledge base\n",
        "# \"Is milestone 2 done?\"\n",
        "response = requests.post(f\"https://api.farspeak.ai/knowledgebase/{FARSPEAK_appname}/{FARSPEAK_env}\", headers={'token': f'{FARSPEAK_token}'}, json={'query' : 'Is milestone 2 done?'})\n",
        "print(response.text)"
      ],
      "metadata": {
        "colab": {
          "base_uri": "https://localhost:8080/"
        },
        "id": "v8R7ER7GixH1",
        "outputId": "867f905d-8c3b-4973-84f9-096785413707"
      },
      "execution_count": 22,
      "outputs": [
        {
          "output_type": "stream",
          "name": "stdout",
          "text": [
            "{\"answer\":\"No, the milestone 2 is not done yet. The status of the milestone is marked as \\\"In Progress.\\\"\"}\n"
          ]
        }
      ]
    },
    {
      "cell_type": "markdown",
      "metadata": {
        "id": "iEUMlO8M2h4Y"
      },
      "source": [
        "---"
      ]
    }
  ],
  "metadata": {
    "colab": {
      "provenance": []
    },
    "kernelspec": {
      "display_name": "Python 3",
      "name": "python3"
    },
    "language_info": {
      "name": "python"
    }
  },
  "nbformat": 4,
  "nbformat_minor": 0
}