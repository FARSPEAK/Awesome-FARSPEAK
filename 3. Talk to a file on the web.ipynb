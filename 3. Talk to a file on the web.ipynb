{
  "cells": [
    {
      "cell_type": "code",
      "source": [
        "!pip install requests PyPDF2"
      ],
      "metadata": {
        "colab": {
          "base_uri": "https://localhost:8080/"
        },
        "id": "t-CnYswAc_mt",
        "outputId": "57e5291c-3e66-43e4-c967-e65bc802f732"
      },
      "execution_count": null,
      "outputs": [
        {
          "output_type": "stream",
          "name": "stdout",
          "text": [
            "Requirement already satisfied: requests in /usr/local/lib/python3.10/dist-packages (2.31.0)\n",
            "Requirement already satisfied: PyPDF2 in /usr/local/lib/python3.10/dist-packages (3.0.1)\n",
            "Requirement already satisfied: charset-normalizer<4,>=2 in /usr/local/lib/python3.10/dist-packages (from requests) (3.3.2)\n",
            "Requirement already satisfied: idna<4,>=2.5 in /usr/local/lib/python3.10/dist-packages (from requests) (3.7)\n",
            "Requirement already satisfied: urllib3<3,>=1.21.1 in /usr/local/lib/python3.10/dist-packages (from requests) (2.0.7)\n",
            "Requirement already satisfied: certifi>=2017.4.17 in /usr/local/lib/python3.10/dist-packages (from requests) (2024.2.2)\n"
          ]
        }
      ]
    },
    {
      "cell_type": "code",
      "source": [
        "import requests\n",
        "import json\n",
        "import PyPDF2\n",
        "from io import BytesIO"
      ],
      "metadata": {
        "id": "UoOLGYiVB22Q"
      },
      "execution_count": null,
      "outputs": []
    },
    {
      "cell_type": "code",
      "source": [
        "### Your FARSPEAK app - log in on FARSPEAK.AI and create an app first\n",
        "FARSPEAK_AppName = \"\"\n",
        "FARSPEAK_Env = \"\"\n",
        "FARSPEAK_token = \"\""
      ],
      "metadata": {
        "id": "IEaD88iAB47o"
      },
      "execution_count": null,
      "outputs": []
    },
    {
      "cell_type": "code",
      "source": [
        "# URL of the PDF file\n",
        "url = \"https://www.math.cmu.edu/~jmackey/151_128/bws_book.pdf\"\n",
        "\n",
        "# Send a GET request\n",
        "response = requests.get(url)\n",
        "\n",
        "pdf_reader = None\n",
        "\n",
        "# Check if the request was successful\n",
        "if response.status_code == 200:\n",
        "    # Create a BytesIO object from the response content\n",
        "    file = BytesIO(response.content)\n",
        "\n",
        "    # Create a PDF reader object\n",
        "    pdf_reader = PyPDF2.PdfReader(file)\n",
        "\n",
        "    # Loop through the pages and extract text\n",
        "    #for page in pdf_reader.pages:\n",
        "    #    print(page.extract_text())\n",
        "else:\n",
        "    print(\"Failed to retrieve the PDF.\")\n"
      ],
      "metadata": {
        "id": "5PaOo0VT8IAN"
      },
      "execution_count": null,
      "outputs": []
    },
    {
      "cell_type": "code",
      "source": [
        "pdf_output = BytesIO()\n",
        "pdf_writer = PyPDF2.PdfWriter()\n",
        "\n",
        "file_path = \"bws_book.pdf\"\n",
        "\n",
        "# Copy pages from pdf_reader to pdf_writer\n",
        "for page in pdf_reader.pages:\n",
        "    pdf_writer.add_page(page)\n",
        "\n",
        "# Write the PDF data to a BytesIO object\n",
        "pdf_writer.write(pdf_output)\n",
        "\n",
        "# Write the contents of the writer to a file\n",
        "with open(file_path, 'wb') as output_pdf:\n",
        "    pdf_writer.write(output_pdf)\n",
        "\n",
        "print(f\"PDF has been saved to {file_path}\")\n",
        "\n",
        "# Make sure to seek back to the start of the BytesIO object\n",
        "pdf_output.seek(0)"
      ],
      "metadata": {
        "colab": {
          "base_uri": "https://localhost:8080/"
        },
        "id": "zYDdZSZ2d946",
        "outputId": "5e6970f3-3773-4792-d13d-8e9b392e141b"
      },
      "execution_count": null,
      "outputs": [
        {
          "output_type": "stream",
          "name": "stdout",
          "text": [
            "PDF has been saved to bws_book.pdf\n"
          ]
        },
        {
          "output_type": "execute_result",
          "data": {
            "text/plain": [
              "0"
            ]
          },
          "metadata": {},
          "execution_count": 23
        }
      ]
    },
    {
      "cell_type": "code",
      "source": [
        "# Upload a file\n",
        "# Use POST {{url}}/docs/{{app}}/{{env}}\n",
        "\n",
        "url = f\"https://api.farspeak.ai/docs/{FARSPEAK_AppName}/{FARSPEAK_Env}/books\"\n",
        "\n",
        "# Token for authentication (if needed)\n",
        "headers = {\n",
        "    'token': FARSPEAK_token\n",
        "}\n",
        "\n",
        "# Your data as a dictionary. Describe your data.\n",
        "data = {\n",
        "    \"template\": '{ \"name\": \"The person who wrote this paper\", \"title\": \"The title of this presentation\" }',\n",
        "    \"instructions\": \"This is a paper in pdf format\"\n",
        "}\n",
        "\n",
        "# Open the file in binary mode\n",
        "with open(file_path, 'rb') as pdf_file:\n",
        "    # Define the files dictionary including the file and the form data\n",
        "    files = {'docs': (file_path, pdf_file, 'application/pdf')}\n",
        "\n",
        "    # Send the POST request with both files and data\n",
        "    response = requests.post(url, headers=headers, files=files, data=data)\n",
        "\n",
        "    # Print the response from the server\n",
        "    print(response.text)\n",
        "\n",
        "# Check the response status code to see if the request was successful\n",
        "if response.status_code == 200:\n",
        "    print(\"File and data uploaded successfully.\")\n",
        "else:\n",
        "    print(\"Failed to upload file and data.\")\n"
      ],
      "metadata": {
        "colab": {
          "base_uri": "https://localhost:8080/"
        },
        "id": "UJxm9PmZ-pSc",
        "outputId": "2438536a-b51d-44e1-c2e8-a9e1689d59e2"
      },
      "execution_count": null,
      "outputs": [
        {
          "output_type": "stream",
          "name": "stdout",
          "text": [
            "{\"ids\":[\"82r2qh8u\"]}\n",
            "File and data uploaded successfully.\n"
          ]
        }
      ]
    },
    {
      "cell_type": "code",
      "source": [
        "# Use your knowledge base\n",
        "\n",
        "response = requests.post(f\"https://api.farspeak.ai/knowledgebase/{FARSPEAK_AppName}/{FARSPEAK_Env}\",\n",
        "                         headers={'token': f'{FARSPEAK_token}'},\n",
        "                         json={'query' : 'Who wrote Everything You Always Wanted To Know About Mathematics?'})\n",
        "print(response.text)"
      ],
      "metadata": {
        "colab": {
          "base_uri": "https://localhost:8080/"
        },
        "id": "v8R7ER7GixH1",
        "outputId": "5dbe8a9b-9afc-407c-bb2c-1238dce184ce"
      },
      "execution_count": null,
      "outputs": [
        {
          "output_type": "stream",
          "name": "stdout",
          "text": [
            "{\"answer\":\"Brendan W. Sullivan wrote \\\"Everything You Always Wanted To Know About Mathematics.\\\"\"}\n"
          ]
        }
      ]
    },
    {
      "cell_type": "markdown",
      "metadata": {
        "id": "iEUMlO8M2h4Y"
      },
      "source": [
        "---"
      ]
    }
  ],
  "metadata": {
    "colab": {
      "provenance": []
    },
    "kernelspec": {
      "display_name": "Python 3",
      "name": "python3"
    },
    "language_info": {
      "name": "python"
    }
  },
  "nbformat": 4,
  "nbformat_minor": 0
}