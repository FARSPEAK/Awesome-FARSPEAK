{
  "cells": [
    {
      "cell_type": "code",
      "source": [
        "import requests\n",
        "import json"
      ],
      "metadata": {
        "id": "UoOLGYiVB22Q"
      },
      "execution_count": 1,
      "outputs": []
    },
    {
      "cell_type": "code",
      "source": [
        "### Your FARSPEAK app - log in on FARSPEAK.AI and create an app first\n",
        "FARSPEAK_AppName = \"\"\n",
        "FARSPEAK_Env = \"\"\n",
        "FARSPEAK_token = \"\""
      ],
      "metadata": {
        "id": "IEaD88iAB47o"
      },
      "execution_count": 2,
      "outputs": []
    },
    {
      "cell_type": "code",
      "source": [
        "headers = {\n",
        "    'token': FARSPEAK_token\n",
        "}\n",
        "url = f\"https://api.farspeak.ai/apps/{FARSPEAK_AppName}/{FARSPEAK_Env}/presentations\"\n",
        "response = requests.delete(url, headers=headers)\n",
        "print(response.text)"
      ],
      "metadata": {
        "colab": {
          "base_uri": "https://localhost:8080/"
        },
        "id": "T42sYVxJK8GB",
        "outputId": "d696d0f0-376e-40b7-8de1-96291d1b7125"
      },
      "execution_count": 5,
      "outputs": [
        {
          "output_type": "stream",
          "name": "stdout",
          "text": [
            "{\"deleted\":0}\n"
          ]
        }
      ]
    },
    {
      "cell_type": "code",
      "source": [
        "# Use your knowledge base\n",
        "\n",
        "response = requests.post(f\"https://api.farspeak.ai/knowledgebase/{FARSPEAK_AppName}/{FARSPEAK_Env}\",\n",
        "                         headers={'token': f'{FARSPEAK_token}'},\n",
        "                         json={'query' : 'What frameworks are described in the presentation?'})\n",
        "print(response.text)"
      ],
      "metadata": {
        "colab": {
          "base_uri": "https://localhost:8080/"
        },
        "id": "2FwJDirSK2XF",
        "outputId": "9a6eb519-7b4e-4907-f01e-32e1229081fc"
      },
      "execution_count": 6,
      "outputs": [
        {
          "output_type": "stream",
          "name": "stdout",
          "text": [
            "{\"answer\":\"There are no specific frameworks described in the serialized JSON data provided. The data mainly consists of information related to different projects, milestones, team members, priorities, start dates, and metadata scores.\"}\n"
          ]
        }
      ]
    },
    {
      "cell_type": "code",
      "source": [
        "from google.colab import files\n",
        "\n",
        "uploaded = files.upload()\n",
        "\n",
        "# To see the file names that have been uploaded\n",
        "file_path = \"./\" + list(uploaded.keys())[0]\n",
        "\n",
        "print(\"File path: \" + file_path)"
      ],
      "metadata": {
        "colab": {
          "base_uri": "https://localhost:8080/",
          "height": 92
        },
        "id": "yexeL_RquT2r",
        "outputId": "5c2922a5-b7d4-4f91-c415-eae031146681"
      },
      "execution_count": 7,
      "outputs": [
        {
          "output_type": "display_data",
          "data": {
            "text/plain": [
              "<IPython.core.display.HTML object>"
            ],
            "text/html": [
              "\n",
              "     <input type=\"file\" id=\"files-e6135b1c-e7ca-4e33-ae29-21ab343f2b91\" name=\"files[]\" multiple disabled\n",
              "        style=\"border:none\" />\n",
              "     <output id=\"result-e6135b1c-e7ca-4e33-ae29-21ab343f2b91\">\n",
              "      Upload widget is only available when the cell has been executed in the\n",
              "      current browser session. Please rerun this cell to enable.\n",
              "      </output>\n",
              "      <script>// Copyright 2017 Google LLC\n",
              "//\n",
              "// Licensed under the Apache License, Version 2.0 (the \"License\");\n",
              "// you may not use this file except in compliance with the License.\n",
              "// You may obtain a copy of the License at\n",
              "//\n",
              "//      http://www.apache.org/licenses/LICENSE-2.0\n",
              "//\n",
              "// Unless required by applicable law or agreed to in writing, software\n",
              "// distributed under the License is distributed on an \"AS IS\" BASIS,\n",
              "// WITHOUT WARRANTIES OR CONDITIONS OF ANY KIND, either express or implied.\n",
              "// See the License for the specific language governing permissions and\n",
              "// limitations under the License.\n",
              "\n",
              "/**\n",
              " * @fileoverview Helpers for google.colab Python module.\n",
              " */\n",
              "(function(scope) {\n",
              "function span(text, styleAttributes = {}) {\n",
              "  const element = document.createElement('span');\n",
              "  element.textContent = text;\n",
              "  for (const key of Object.keys(styleAttributes)) {\n",
              "    element.style[key] = styleAttributes[key];\n",
              "  }\n",
              "  return element;\n",
              "}\n",
              "\n",
              "// Max number of bytes which will be uploaded at a time.\n",
              "const MAX_PAYLOAD_SIZE = 100 * 1024;\n",
              "\n",
              "function _uploadFiles(inputId, outputId) {\n",
              "  const steps = uploadFilesStep(inputId, outputId);\n",
              "  const outputElement = document.getElementById(outputId);\n",
              "  // Cache steps on the outputElement to make it available for the next call\n",
              "  // to uploadFilesContinue from Python.\n",
              "  outputElement.steps = steps;\n",
              "\n",
              "  return _uploadFilesContinue(outputId);\n",
              "}\n",
              "\n",
              "// This is roughly an async generator (not supported in the browser yet),\n",
              "// where there are multiple asynchronous steps and the Python side is going\n",
              "// to poll for completion of each step.\n",
              "// This uses a Promise to block the python side on completion of each step,\n",
              "// then passes the result of the previous step as the input to the next step.\n",
              "function _uploadFilesContinue(outputId) {\n",
              "  const outputElement = document.getElementById(outputId);\n",
              "  const steps = outputElement.steps;\n",
              "\n",
              "  const next = steps.next(outputElement.lastPromiseValue);\n",
              "  return Promise.resolve(next.value.promise).then((value) => {\n",
              "    // Cache the last promise value to make it available to the next\n",
              "    // step of the generator.\n",
              "    outputElement.lastPromiseValue = value;\n",
              "    return next.value.response;\n",
              "  });\n",
              "}\n",
              "\n",
              "/**\n",
              " * Generator function which is called between each async step of the upload\n",
              " * process.\n",
              " * @param {string} inputId Element ID of the input file picker element.\n",
              " * @param {string} outputId Element ID of the output display.\n",
              " * @return {!Iterable<!Object>} Iterable of next steps.\n",
              " */\n",
              "function* uploadFilesStep(inputId, outputId) {\n",
              "  const inputElement = document.getElementById(inputId);\n",
              "  inputElement.disabled = false;\n",
              "\n",
              "  const outputElement = document.getElementById(outputId);\n",
              "  outputElement.innerHTML = '';\n",
              "\n",
              "  const pickedPromise = new Promise((resolve) => {\n",
              "    inputElement.addEventListener('change', (e) => {\n",
              "      resolve(e.target.files);\n",
              "    });\n",
              "  });\n",
              "\n",
              "  const cancel = document.createElement('button');\n",
              "  inputElement.parentElement.appendChild(cancel);\n",
              "  cancel.textContent = 'Cancel upload';\n",
              "  const cancelPromise = new Promise((resolve) => {\n",
              "    cancel.onclick = () => {\n",
              "      resolve(null);\n",
              "    };\n",
              "  });\n",
              "\n",
              "  // Wait for the user to pick the files.\n",
              "  const files = yield {\n",
              "    promise: Promise.race([pickedPromise, cancelPromise]),\n",
              "    response: {\n",
              "      action: 'starting',\n",
              "    }\n",
              "  };\n",
              "\n",
              "  cancel.remove();\n",
              "\n",
              "  // Disable the input element since further picks are not allowed.\n",
              "  inputElement.disabled = true;\n",
              "\n",
              "  if (!files) {\n",
              "    return {\n",
              "      response: {\n",
              "        action: 'complete',\n",
              "      }\n",
              "    };\n",
              "  }\n",
              "\n",
              "  for (const file of files) {\n",
              "    const li = document.createElement('li');\n",
              "    li.append(span(file.name, {fontWeight: 'bold'}));\n",
              "    li.append(span(\n",
              "        `(${file.type || 'n/a'}) - ${file.size} bytes, ` +\n",
              "        `last modified: ${\n",
              "            file.lastModifiedDate ? file.lastModifiedDate.toLocaleDateString() :\n",
              "                                    'n/a'} - `));\n",
              "    const percent = span('0% done');\n",
              "    li.appendChild(percent);\n",
              "\n",
              "    outputElement.appendChild(li);\n",
              "\n",
              "    const fileDataPromise = new Promise((resolve) => {\n",
              "      const reader = new FileReader();\n",
              "      reader.onload = (e) => {\n",
              "        resolve(e.target.result);\n",
              "      };\n",
              "      reader.readAsArrayBuffer(file);\n",
              "    });\n",
              "    // Wait for the data to be ready.\n",
              "    let fileData = yield {\n",
              "      promise: fileDataPromise,\n",
              "      response: {\n",
              "        action: 'continue',\n",
              "      }\n",
              "    };\n",
              "\n",
              "    // Use a chunked sending to avoid message size limits. See b/62115660.\n",
              "    let position = 0;\n",
              "    do {\n",
              "      const length = Math.min(fileData.byteLength - position, MAX_PAYLOAD_SIZE);\n",
              "      const chunk = new Uint8Array(fileData, position, length);\n",
              "      position += length;\n",
              "\n",
              "      const base64 = btoa(String.fromCharCode.apply(null, chunk));\n",
              "      yield {\n",
              "        response: {\n",
              "          action: 'append',\n",
              "          file: file.name,\n",
              "          data: base64,\n",
              "        },\n",
              "      };\n",
              "\n",
              "      let percentDone = fileData.byteLength === 0 ?\n",
              "          100 :\n",
              "          Math.round((position / fileData.byteLength) * 100);\n",
              "      percent.textContent = `${percentDone}% done`;\n",
              "\n",
              "    } while (position < fileData.byteLength);\n",
              "  }\n",
              "\n",
              "  // All done.\n",
              "  yield {\n",
              "    response: {\n",
              "      action: 'complete',\n",
              "    }\n",
              "  };\n",
              "}\n",
              "\n",
              "scope.google = scope.google || {};\n",
              "scope.google.colab = scope.google.colab || {};\n",
              "scope.google.colab._files = {\n",
              "  _uploadFiles,\n",
              "  _uploadFilesContinue,\n",
              "};\n",
              "})(self);\n",
              "</script> "
            ]
          },
          "metadata": {}
        },
        {
          "output_type": "stream",
          "name": "stdout",
          "text": [
            "Saving test.pdf to test.pdf\n",
            "File path: ./test.pdf\n"
          ]
        }
      ]
    },
    {
      "cell_type": "code",
      "source": [],
      "metadata": {
        "id": "5PaOo0VT8IAN"
      },
      "execution_count": null,
      "outputs": []
    },
    {
      "cell_type": "code",
      "source": [
        "# Upload a file\n",
        "# Use POST {{url}}/docs/{{app}}/{{env}}/entity-name\n",
        "\n",
        "url = f\"https://api.farspeak.ai/docs/{FARSPEAK_AppName}/{FARSPEAK_Env}/presentations\"\n",
        "\n",
        "# Token for authentication (if needed)\n",
        "headers = {\n",
        "    'token': FARSPEAK_token\n",
        "}\n",
        "\n",
        "# Your data as a dictionary. Describe your data.\n",
        "data = {\n",
        "    \"template\": '{ \"Title\": \"Title of the presentation\", \"Models\": \"Models used in the presentation\", \"Frameworks\": \"Frameworks used in the presentation\" }',\n",
        "    \"instructions\": \"This is a a presentation\"\n",
        "}\n",
        "\n",
        "# Open the file in binary mode\n",
        "with open(file_path, 'rb') as pdf_file:\n",
        "    # Define the files dictionary including the file and the form data\n",
        "    files = {'docs': (file_path, pdf_file, 'application/pdf')}\n",
        "\n",
        "    # Send the POST request with both files and data\n",
        "    response = requests.post(url, headers=headers, files=files, data=data)\n",
        "\n",
        "    # Print the response from the server\n",
        "    print(response.text)\n",
        "\n",
        "# Check the response status code to see if the request was successful\n",
        "if response.status_code == 200:\n",
        "    print(\"File and data uploaded successfully.\")\n",
        "else:\n",
        "    print(\"Failed to upload file and data.\")\n"
      ],
      "metadata": {
        "colab": {
          "base_uri": "https://localhost:8080/"
        },
        "id": "UJxm9PmZ-pSc",
        "outputId": "5e79588e-9665-4900-d352-e57f4bdb775f"
      },
      "execution_count": 8,
      "outputs": [
        {
          "output_type": "stream",
          "name": "stdout",
          "text": [
            "{\"ids\":[\"9zlyixqw\"]}\n",
            "File and data uploaded successfully.\n"
          ]
        }
      ]
    },
    {
      "cell_type": "code",
      "source": [
        "headers = {\n",
        "    'token': FARSPEAK_token\n",
        "}\n",
        "url = f\"https://api.farspeak.ai/apps/{FARSPEAK_AppName}/{FARSPEAK_Env}/presentations\"\n",
        "response = requests.get(url, headers=headers)\n",
        "print(response.text)"
      ],
      "metadata": {
        "id": "wBi3pHVgF4sg",
        "colab": {
          "base_uri": "https://localhost:8080/"
        },
        "outputId": "d28bb906-2b3f-4e33-9884-449861e7ddc2"
      },
      "execution_count": 9,
      "outputs": [
        {
          "output_type": "stream",
          "name": "stdout",
          "text": [
            "{\"presentations\":[{\"id\":\"9zlyixqw\",\"Title\":\"Learning to Trade\",\"Models\":\"Statistical Hedging\",\"Frameworks\":\"None\",\"__meta\":{\"self\":\"/my-app/dev/presentations/9zlyixqw\"}}],\"__meta\":{\"totalCount\":1,\"items\":1,\"pages\":1,\"page\":1,\"current_page\":\"/my-app/dev/presentations?__page=1&__per_page=10\"}}\n"
          ]
        }
      ]
    },
    {
      "cell_type": "code",
      "source": [
        "# Use your knowledge base\n",
        "\n",
        "response = requests.post(f\"https://api.farspeak.ai/knowledgebase/{FARSPEAK_AppName}/{FARSPEAK_Env}\",\n",
        "                         headers={'token': f'{FARSPEAK_token}'},\n",
        "                         json={'query' : 'What models are used in the presentation?'})\n",
        "print(response.text)"
      ],
      "metadata": {
        "colab": {
          "base_uri": "https://localhost:8080/"
        },
        "id": "v8R7ER7GixH1",
        "outputId": "51fa9154-c76c-45f7-aa70-e958bec4ea7a"
      },
      "execution_count": 11,
      "outputs": [
        {
          "output_type": "stream",
          "name": "stdout",
          "text": [
            "{\"answer\":\"The presentation titled \\\"Learning to Trade\\\" uses Statistical Hedging models.\"}\n"
          ]
        }
      ]
    },
    {
      "cell_type": "markdown",
      "metadata": {
        "id": "iEUMlO8M2h4Y"
      },
      "source": [
        "---"
      ]
    }
  ],
  "metadata": {
    "colab": {
      "provenance": []
    },
    "kernelspec": {
      "display_name": "Python 3",
      "name": "python3"
    },
    "language_info": {
      "name": "python"
    }
  },
  "nbformat": 4,
  "nbformat_minor": 0
}